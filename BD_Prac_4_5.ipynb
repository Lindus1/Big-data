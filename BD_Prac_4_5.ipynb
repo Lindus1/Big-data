{
 "cells": [
  {
   "cell_type": "code",
   "execution_count": 7,
   "id": "f6b06c22",
   "metadata": {},
   "outputs": [
    {
     "name": "stdout",
     "output_type": "stream",
     "text": [
      "Шум1 46\n",
      "Шум2 89\n",
      "Шум3 120\n",
      "Шум4 5\n",
      "{'Шум1': 'негативное влияние на нервную систему человека', 'Шум2': 'серьезный вред здоровью', 'Шум3': 'серьезный вред здоровью', 'Шум4': 'не вреден для здоровья'}\n"
     ]
    }
   ],
   "source": [
    "#4.1\n",
    "a={'Шум1': int(input('Шум1 ')), 'Шум2': int(input('Шум2 ')) ,'Шум3': int(input('Шум3 ')), 'Шум4': int(input('Шум4 '))}\n",
    "b={'не вреден для здоровья': [0,35] , 'негативное влияние на нервную систему человека':[35,70],'ухудшение слуха, головные боли':[70,85],'ухудшение слуха, головные боли':[70,85],'серьезный вред здоровью':[85,130],'– угроза жизни':[130,float('inf')]}\n",
    "i=j=0\n",
    "ss=[]\n",
    "ak=list(a.keys())\n",
    "aE=list(a.values())\n",
    "bk=list(b.keys())\n",
    "for ae in a.values():\n",
    "    j=0\n",
    "    for be in b.values():       \n",
    "        if ae >= be[0] and ae < be[1]:\n",
    "            ss.append(bk[j])\n",
    "            s=dict(zip(ak,ss))\n",
    "        j+=1\n",
    "    i+=1\n",
    "print(s)"
   ]
  },
  {
   "cell_type": "code",
   "execution_count": 4,
   "id": "70b1b6de",
   "metadata": {},
   "outputs": [
    {
     "name": "stdout",
     "output_type": "stream",
     "text": [
      "одно действие совершили 40 клентов\n"
     ]
    }
   ],
   "source": [
    "#4.2\n",
    "import json\n",
    "with  open('data.json','r') as js:\n",
    "    js = json.load(js)\n",
    "client={}\n",
    "for i in js['events_data']:\n",
    "    if i['client_id'] in client:\n",
    "        client[i['client_id']] +=1\n",
    "    else:\n",
    "        client[i['client_id']] =1\n",
    "k=0\n",
    "for j in client:\n",
    "    if client[j]==1:\n",
    "        k+=1\n",
    "print(f'одно действие совершили {k} клентов')\n",
    "#print(client)\n",
    "\n",
    "\n"
   ]
  },
  {
   "cell_type": "code",
   "execution_count": 5,
   "id": "cd682867",
   "metadata": {},
   "outputs": [
    {
     "name": "stdout",
     "output_type": "stream",
     "text": [
      "Введите N: 3\n",
      "Введите M: 3\n",
      "[3, 2, 1, 2, 3, 4, 1, 0, 8]\n",
      "Исходный массив A\n",
      "[[3 2 1]\n",
      " [2 3 4]\n",
      " [1 0 8]]\n",
      "Введите число B: 7\n",
      "[8]\n",
      "1\n"
     ]
    }
   ],
   "source": [
    "#5\n",
    "import numpy as np\n",
    "import random\n",
    "\n",
    "N = int(input(\"Введите N: \"))\n",
    "M = int(input(\"Введите M: \"))\n",
    "T = random.choices(range(0, 10), k=N*M)\n",
    "print(T)\n",
    "\n",
    "A = np.array(T).reshape(N, M)\n",
    "print('Исходный массив A')\n",
    "print(A)\n",
    "\n",
    "B = float(input('Введите число B: '))\n",
    "C=[]\n",
    "s=0\n",
    "for i in T:\n",
    "    if i > B:\n",
    "        C.append(i)\n",
    "        s+=1\n",
    "print(C)\n",
    "print(s)\n",
    "\n"
   ]
  },
  {
   "cell_type": "code",
   "execution_count": 156,
   "id": "3619daf9",
   "metadata": {},
   "outputs": [
    {
     "name": "stdout",
     "output_type": "stream",
     "text": [
      "6.5\n"
     ]
    }
   ],
   "source": [
    "median=np.median(C)\n",
    "print(median)"
   ]
  },
  {
   "cell_type": "code",
   "execution_count": 6,
   "id": "811c4686",
   "metadata": {},
   "outputs": [
    {
     "name": "stdout",
     "output_type": "stream",
     "text": [
      "17.0\n"
     ]
    }
   ],
   "source": [
    "for i in C:\n",
    "    i+=i\n",
    "print(float((i+1)/len(C)))"
   ]
  }
 ],
 "metadata": {
  "kernelspec": {
   "display_name": "Python 3 (ipykernel)",
   "language": "python",
   "name": "python3"
  },
  "language_info": {
   "codemirror_mode": {
    "name": "ipython",
    "version": 3
   },
   "file_extension": ".py",
   "mimetype": "text/x-python",
   "name": "python",
   "nbconvert_exporter": "python",
   "pygments_lexer": "ipython3",
   "version": "3.9.12"
  }
 },
 "nbformat": 4,
 "nbformat_minor": 5
}
