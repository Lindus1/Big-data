{
 "cells": [
  {
   "cell_type": "code",
   "execution_count": 3,
   "id": "33febc60",
   "metadata": {},
   "outputs": [
    {
     "name": "stdout",
     "output_type": "stream",
     "text": [
      "Введите N: 2\n",
      "Введите M: 3\n",
      "[2, 9, 0, 6, 5, 5]\n",
      "Исходный массив A\n",
      "[[2 9 0]\n",
      " [6 5 5]]\n",
      "Введите число B: 4\n",
      "[9, 6, 5, 5]\n",
      "4\n"
     ]
    }
   ],
   "source": [
    "#5\n",
    "import numpy as np\n",
    "import random\n",
    "\n",
    "N = int(input(\"Введите N: \"))\n",
    "M = int(input(\"Введите M: \"))\n",
    "T = random.choices(range(0, 10), k=N*M)\n",
    "print(T)\n",
    "\n",
    "A = np.array(T).reshape(N, M)\n",
    "print('Исходный массив A')\n",
    "print(A)\n",
    "\n",
    "B = float(input('Введите число B: '))\n",
    "C=[]\n",
    "s=0\n",
    "for i in T:\n",
    "    if i > B:\n",
    "        C.append(i)\n",
    "        s+=1\n",
    "print(C)\n",
    "print(s)\n",
    "\n"
   ]
  },
  {
   "cell_type": "code",
   "execution_count": 4,
   "id": "2dfcdc53",
   "metadata": {},
   "outputs": [
    {
     "name": "stdout",
     "output_type": "stream",
     "text": [
      "5.5\n"
     ]
    }
   ],
   "source": [
    "#Задача 5.2\n",
    "import numpy as np\n",
    "median=np.median(C)\n",
    "print(median)"
   ]
  },
  {
   "cell_type": "code",
   "execution_count": 5,
   "id": "2be3a20f",
   "metadata": {},
   "outputs": [
    {
     "name": "stdout",
     "output_type": "stream",
     "text": [
      "2.75\n"
     ]
    }
   ],
   "source": [
    "for i in C:\n",
    "    i+=i\n",
    "print(float((i+1)/len(C)))"
   ]
  }
 ],
 "metadata": {
  "kernelspec": {
   "display_name": "Python 3 (ipykernel)",
   "language": "python",
   "name": "python3"
  },
  "language_info": {
   "codemirror_mode": {
    "name": "ipython",
    "version": 3
   },
   "file_extension": ".py",
   "mimetype": "text/x-python",
   "name": "python",
   "nbconvert_exporter": "python",
   "pygments_lexer": "ipython3",
   "version": "3.9.12"
  }
 },
 "nbformat": 4,
 "nbformat_minor": 5
}
